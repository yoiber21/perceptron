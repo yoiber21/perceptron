{
  "cells": [
    {
      "cell_type": "markdown",
      "metadata": {
        "id": "view-in-github",
        "colab_type": "text"
      },
      "source": [
        "<a href=\"https://colab.research.google.com/github/yoiber21/perceptron/blob/main/laboratory/notebooks/02_discmath_pythoncrashcoursehomework.ipynb\" target=\"_parent\"><img src=\"https://colab.research.google.com/assets/colab-badge.svg\" alt=\"Open In Colab\"/></a>"
      ]
    },
    {
      "cell_type": "markdown",
      "metadata": {
        "id": "yEPuSQJFMbRw"
      },
      "source": [
        "<!--NAVIGATION-->\n",
        "<a href=\"https://colab.research.google.com/github/marcoteran/artificialintelligence/blob/master/notebooks/00_introtopython/02_artificialintelligence_pythoncrashcoursehomework.ipynb\" target=\"_blank\"><img align=\"left\" src=\"https://colab.research.google.com/assets/colab-badge.svg\" alt=\"Abrir en Colab\" title=\"Abrir y ejecutar en Google Colaboratory\"></a>"
      ]
    },
    {
      "cell_type": "markdown",
      "metadata": {
        "id": "RJ5mFgsfMbR1"
      },
      "source": [
        "### Taller\n",
        "# Taller: Ejercicios curso rápido de Python\n",
        "## Inteligencia Artificial"
      ]
    },
    {
      "cell_type": "markdown",
      "metadata": {
        "id": "zO9grJWJMbR2"
      },
      "source": [
        "**Name:** Marco Teran **E-mail:** marco.tulio.teran@gmail.com,\n",
        "[Website](http://marcoteran.github.io/),\n",
        "[Github](https://github.com/marcoteran),\n",
        "[LinkedIn](https://www.linkedin.com/in/marcoteran/).\n",
        "___"
      ]
    },
    {
      "cell_type": "markdown",
      "metadata": {
        "id": "mmY7lwxQMbR3"
      },
      "source": [
        "En este notebook se plantan algunos ejercicios de programación en Python para repasar los conceptos estudiados. Si usted piensa que necesita más bases de programación o más bases de Python por favor considere hacer trabajo extra para ponerse al día. Por ejemplo con el siguiente curso en línea: [CodeCademy: Learn Python (10 hours)](https://www.codecademy.com/courses/learn-python/lessons/python-syntax/exercises/welcome?action=lesson_resume)."
      ]
    },
    {
      "cell_type": "markdown",
      "metadata": {
        "id": "IkvjKUJsMbR4"
      },
      "source": [
        "## Ejercicios\n",
        "\n",
        "Conteste las preguntas o complete las tareas que se presentan en negrilla a continuación. Use los métodos de Python cuando sea necesario."
      ]
    },
    {
      "cell_type": "markdown",
      "metadata": {
        "id": "tPhWgE6EMbR3"
      },
      "source": [
        "Escriba su nombre completo:\n",
        "## Nombre:Yoiber Andres Beitar Renteria\n",
        "___"
      ]
    },
    {
      "cell_type": "markdown",
      "metadata": {
        "id": "2YzD4RZNMbR4"
      },
      "source": [
        "** ¿Cuánto es 7 elevado a la potencia de 4?**"
      ]
    },
    {
      "cell_type": "code",
      "execution_count": 1,
      "metadata": {
        "collapsed": true,
        "id": "H8HrEAjfMbR5",
        "outputId": "5669d829-33fb-4984-aebb-07e70b6b77ab",
        "colab": {
          "base_uri": "https://localhost:8080/"
        }
      },
      "outputs": [
        {
          "output_type": "stream",
          "name": "stdout",
          "text": [
            "7 elevado a la potencia de 4 es 2401\n"
          ]
        }
      ],
      "source": [
        "result = 7**4\n",
        "print(f\"7 elevado a la potencia de 4 es {result}\")"
      ]
    },
    {
      "cell_type": "code",
      "execution_count": null,
      "metadata": {
        "id": "dkpliHRoMbR5",
        "outputId": "4dd9407b-0487-46f1-83e1-0e41aba61fb8"
      },
      "outputs": [
        {
          "data": {
            "text/plain": [
              "2401"
            ]
          },
          "execution_count": 1,
          "metadata": {},
          "output_type": "execute_result"
        }
      ],
      "source": [
        "# NO USAR ESTA CELDA"
      ]
    },
    {
      "cell_type": "markdown",
      "metadata": {
        "id": "J9jRiIG4MbR7"
      },
      "source": [
        "** Separe la siguiente cadena (usando como delimitador los espacios):**\n",
        "\n",
        "    s = \"Hola, este es un ejercio de Python!\"\n",
        "    \n",
        "**en una lista. **"
      ]
    },
    {
      "cell_type": "code",
      "execution_count": 2,
      "metadata": {
        "collapsed": true,
        "id": "PWFymv-QMbR7"
      },
      "outputs": [],
      "source": [
        "s = \"Hola, este es un ejercio de Python!\"\n",
        "result_c = s.split(' ')"
      ]
    },
    {
      "cell_type": "code",
      "execution_count": 3,
      "metadata": {
        "collapsed": true,
        "id": "G_9q85lhMbR8",
        "outputId": "3e8b13a4-307e-40df-bc49-efe1131daa7f",
        "colab": {
          "base_uri": "https://localhost:8080/"
        }
      },
      "outputs": [
        {
          "output_type": "stream",
          "name": "stdout",
          "text": [
            "Cadena separada por espacios en una lista\n",
            "['Hola,', 'este', 'es', 'un', 'ejercio', 'de', 'Python!']\n"
          ]
        }
      ],
      "source": [
        "print(\"Cadena separada por espacios en una lista\")\n",
        "print(result_c)"
      ]
    },
    {
      "cell_type": "code",
      "execution_count": null,
      "metadata": {
        "id": "Cmnlth5aMbR8",
        "outputId": "39aee350-ad10-4cb2-f19a-562a9fa171c2"
      },
      "outputs": [
        {
          "data": {
            "text/plain": [
              "['Hola,', 'este', 'es', 'un', 'ejercio', 'de', 'Python!']"
            ]
          },
          "execution_count": 4,
          "metadata": {},
          "output_type": "execute_result"
        }
      ],
      "source": [
        "# NO USAR ESTA CELDA"
      ]
    },
    {
      "cell_type": "markdown",
      "metadata": {
        "id": "0GZ9ESy0MbR8"
      },
      "source": [
        "###### ** Dadas las siguientes variables:**\n",
        "\n",
        "    planeta = \"Tierra\"\n",
        "    diametro = 12756\n",
        "\n",
        "** Use el método .format() para imprimir en pantalla la siguiente cadena: **\n",
        "\n",
        "    El diámetro del planeta Tierra es 12756 kilometros."
      ]
    },
    {
      "cell_type": "code",
      "execution_count": 5,
      "metadata": {
        "collapsed": true,
        "id": "ISi_p0G7MbR8"
      },
      "outputs": [],
      "source": [
        "planeta = \"Tierra\"\n",
        "diametro = 12756"
      ]
    },
    {
      "cell_type": "code",
      "execution_count": 6,
      "metadata": {
        "collapsed": true,
        "id": "vcUihYGGMbR8",
        "outputId": "d59f1058-0db1-415d-ff44-c9db172ada57",
        "colab": {
          "base_uri": "https://localhost:8080/"
        }
      },
      "outputs": [
        {
          "output_type": "stream",
          "name": "stdout",
          "text": [
            " El diámetro del planeta Tierra es 12756 kilometros.\n"
          ]
        }
      ],
      "source": [
        "print(f\" El diámetro del planeta {planeta} es {diametro} kilometros.\")"
      ]
    },
    {
      "cell_type": "code",
      "execution_count": null,
      "metadata": {
        "id": "0FTSeWzxMbR9",
        "outputId": "e9b75e1b-672c-47bb-e5d7-2289819cf778"
      },
      "outputs": [
        {
          "name": "stdout",
          "output_type": "stream",
          "text": [
            "El diámetro del planeta Tierra es 12756 kilometros.\n"
          ]
        }
      ],
      "source": [
        "# NO USAR ESTA CELDA"
      ]
    },
    {
      "cell_type": "markdown",
      "metadata": {
        "id": "NJdaCRRLMbR9"
      },
      "source": [
        "** Dada la siguiente lista anidada, acceda a la palabra \"hola\" usando solamente los índices de la lista: **"
      ]
    },
    {
      "cell_type": "code",
      "execution_count": null,
      "metadata": {
        "collapsed": true,
        "id": "YfAMg2fzMbR9"
      },
      "outputs": [],
      "source": [
        "lst = [1,2,[3,4],[5,[100,200,['hola']],23,11],1,7]"
      ]
    },
    {
      "cell_type": "code",
      "execution_count": null,
      "metadata": {
        "collapsed": true,
        "id": "j-IocbCPMbR9"
      },
      "outputs": [],
      "source": []
    },
    {
      "cell_type": "code",
      "execution_count": null,
      "metadata": {
        "id": "ok-pNM1SMbR9",
        "outputId": "e7957cc2-8ece-4262-a80e-1bcc8137c210"
      },
      "outputs": [
        {
          "data": {
            "text/plain": [
              "'hola'"
            ]
          },
          "execution_count": 11,
          "metadata": {},
          "output_type": "execute_result"
        }
      ],
      "source": [
        "# NO USAR ESTA CELDA"
      ]
    },
    {
      "cell_type": "markdown",
      "metadata": {
        "id": "ej9ul80uMbR-"
      },
      "source": [
        "** Dado el siguiente diccionario anidado, acceda a la palabra \"hola\". Este ejercicio puede ser un poco difícil.\n",
        "NOTA: Aunque este tipo de cosas no son necesarias normalmente, sirven para terminar de despejar dudas acerca del acceso a diccionarios y listas anidadas: **"
      ]
    },
    {
      "cell_type": "code",
      "execution_count": 7,
      "metadata": {
        "collapsed": true,
        "id": "vFpciI0LMbR-"
      },
      "outputs": [],
      "source": [
        "d = {'k1':[1,2,3,{'difícil':['que','significa','esto',{'casi':[0,1,2,3,'hola']}]}]}"
      ]
    },
    {
      "cell_type": "code",
      "execution_count": 8,
      "metadata": {
        "collapsed": true,
        "id": "jZbkX5P4MbR-",
        "outputId": "3101e637-34fa-48ba-e6b0-06e916bf02af",
        "colab": {
          "base_uri": "https://localhost:8080/"
        }
      },
      "outputs": [
        {
          "output_type": "stream",
          "name": "stdout",
          "text": [
            "hola\n"
          ]
        }
      ],
      "source": [
        "print(list(d['k1'][3].values())[0][3]['casi'][4])"
      ]
    },
    {
      "cell_type": "code",
      "execution_count": null,
      "metadata": {
        "id": "BoWuEQx6MbR-",
        "outputId": "e0b5a098-1bdb-4ea2-e027-c806c4cb44f1"
      },
      "outputs": [
        {
          "data": {
            "text/plain": [
              "'hola'"
            ]
          },
          "execution_count": 15,
          "metadata": {},
          "output_type": "execute_result"
        }
      ],
      "source": [
        "# NO USAR ESTA CELDA"
      ]
    },
    {
      "cell_type": "markdown",
      "metadata": {
        "id": "HH-MNMleMbR-"
      },
      "source": [
        "** ¿Cuál es la principal diferencia entre una tupla y una lista? Escriba su respuesta como un comentario de Python**"
      ]
    },
    {
      "cell_type": "code",
      "execution_count": 9,
      "metadata": {
        "collapsed": true,
        "id": "GczYVVWWMbR-",
        "outputId": "9b60f6fb-6c80-4ff9-943f-f545ceb132e1",
        "colab": {
          "base_uri": "https://localhost:8080/",
          "height": 53
        }
      },
      "outputs": [
        {
          "output_type": "execute_result",
          "data": {
            "text/plain": [
              "'\\nLa principal diferencia entre una tupla y una lista es que\\nlas tuplas son inmutables (no pueden cambiar después de creadas)\\nmientras que las listas son mutables (pueden modificarse después de creadas).\\n'"
            ],
            "application/vnd.google.colaboratory.intrinsic+json": {
              "type": "string"
            }
          },
          "metadata": {},
          "execution_count": 9
        }
      ],
      "source": [
        "\"\"\"\n",
        "La principal diferencia entre una tupla y una lista es que\n",
        "las tuplas son inmutables (no pueden cambiar después de creadas)\n",
        "mientras que las listas son mutables (pueden modificarse después de creadas).\n",
        "\"\"\""
      ]
    },
    {
      "cell_type": "markdown",
      "metadata": {
        "id": "jd6taBtlMbR_"
      },
      "source": [
        "** Crear una función que extraiga el dominio de una página web a partir de una cadena que contenga un email de la siguiente forma: **\n",
        "\n",
        "    usuario@dominio.com\n",
        "    \n",
        "**Por ejemplo: si se le pasa \"frestrepo@gmail.com\", la función retornará: gmail.com**"
      ]
    },
    {
      "cell_type": "code",
      "execution_count": 10,
      "metadata": {
        "collapsed": true,
        "id": "S2dsz2kVMbR_"
      },
      "outputs": [],
      "source": [
        "def getDomain(email: str) -> str:\n",
        "    res = email[email.index('@') + 1 : ]\n",
        "    if res:\n",
        "        return res\n",
        "    return \"No es email\""
      ]
    },
    {
      "cell_type": "code",
      "execution_count": null,
      "metadata": {
        "collapsed": true,
        "id": "F252m8odMbR_"
      },
      "outputs": [],
      "source": []
    },
    {
      "cell_type": "code",
      "execution_count": 11,
      "metadata": {
        "id": "_ux9GjvKMbR_",
        "outputId": "8b410cd2-4c52-486f-e274-5ce6b97b7401",
        "colab": {
          "base_uri": "https://localhost:8080/",
          "height": 36
        }
      },
      "outputs": [
        {
          "output_type": "execute_result",
          "data": {
            "text/plain": [
              "'gmail.com'"
            ],
            "application/vnd.google.colaboratory.intrinsic+json": {
              "type": "string"
            }
          },
          "metadata": {},
          "execution_count": 11
        }
      ],
      "source": [
        "getDomain('frestrepo@gmail.com')"
      ]
    },
    {
      "cell_type": "markdown",
      "metadata": {
        "id": "BL9hEIgnMbR_"
      },
      "source": [
        "** Crear una función que retorne True si la palabra 'perro' está contenida en la cadena de entrada; False, en caso contrario. Por ahora no se preocupe por casos especiales como cuando la palabra tiene algún signo de puntuación inmediatamente despúes de ésta, pero si tenga en cuenta que la palabra puede estar en mayúsculas, minúsculas o una mezcla de ellas. **"
      ]
    },
    {
      "cell_type": "code",
      "execution_count": 12,
      "metadata": {
        "collapsed": true,
        "id": "8eP-ATmWMbSA"
      },
      "outputs": [],
      "source": [
        "def findDog(cadena):\n",
        "    cadena_lower = cadena.lower()\n",
        "    return 'perro' in cadena_lower"
      ]
    },
    {
      "cell_type": "code",
      "execution_count": null,
      "metadata": {
        "collapsed": true,
        "id": "SdOqIPl4MbSA"
      },
      "outputs": [],
      "source": []
    },
    {
      "cell_type": "code",
      "execution_count": 13,
      "metadata": {
        "id": "TcH1lgUkMbSA",
        "outputId": "d5b16fcf-5953-41bd-e534-fe37d431299f",
        "colab": {
          "base_uri": "https://localhost:8080/"
        }
      },
      "outputs": [
        {
          "output_type": "execute_result",
          "data": {
            "text/plain": [
              "True"
            ]
          },
          "metadata": {},
          "execution_count": 13
        }
      ],
      "source": [
        "findDog('¿Hay algún peRRo aquí?')"
      ]
    },
    {
      "cell_type": "markdown",
      "metadata": {
        "id": "pNa_F_t-MbSA"
      },
      "source": [
        "** Crear una función que cuente el número de veces que aparece la palabra \"perro\" en una cadena. Puede ignorar casos especiales como antes. **"
      ]
    },
    {
      "cell_type": "code",
      "execution_count": 14,
      "metadata": {
        "collapsed": true,
        "id": "CrH2FfsfMbSA"
      },
      "outputs": [],
      "source": [
        "def countDog(cadena):\n",
        "    cadena_lower = cadena.lower()\n",
        "    return cadena_lower.count('perro')"
      ]
    },
    {
      "cell_type": "code",
      "execution_count": null,
      "metadata": {
        "collapsed": true,
        "id": "ETJOwfgFMbSA"
      },
      "outputs": [],
      "source": []
    },
    {
      "cell_type": "code",
      "execution_count": 15,
      "metadata": {
        "id": "jcdwJV_FMbSB",
        "outputId": "a97326ed-c3aa-444e-b138-c952506b15ef",
        "colab": {
          "base_uri": "https://localhost:8080/"
        }
      },
      "outputs": [
        {
          "output_type": "execute_result",
          "data": {
            "text/plain": [
              "3"
            ]
          },
          "metadata": {},
          "execution_count": 15
        }
      ],
      "source": [
        "countDog('Este peRRO corre más rápido que el perro blanco y el perro negro!')"
      ]
    },
    {
      "cell_type": "markdown",
      "metadata": {
        "id": "sfaRXqs8MbSF"
      },
      "source": [
        "** Usar una expresión lambda y la función filter() para filtrar las palabras de una lista que NO comiencen con la letra 's'. Por ejemplo:**\n",
        "\n",
        "    seq = ['sopa','perro','sal','gato','grande']\n",
        "\n",
        "**se debe filtrar como:**\n",
        "\n",
        "    ['sopa','sal']"
      ]
    },
    {
      "cell_type": "code",
      "execution_count": 16,
      "metadata": {
        "collapsed": true,
        "id": "n4OYq_8AMbSG"
      },
      "outputs": [],
      "source": [
        "seq = ['sopa','perro','sal','gato','grande']"
      ]
    },
    {
      "cell_type": "code",
      "execution_count": 17,
      "metadata": {
        "collapsed": true,
        "id": "0rl1y230MbSG",
        "outputId": "47e3c7e7-2e92-4f72-bb4e-71444a28d385",
        "colab": {
          "base_uri": "https://localhost:8080/"
        }
      },
      "outputs": [
        {
          "output_type": "stream",
          "name": "stdout",
          "text": [
            "['perro', 'gato', 'grande']\n"
          ]
        }
      ],
      "source": [
        "resultado = filter(lambda palabra: not palabra.startswith('s'), seq)\n",
        "resultado_filtrado = list(resultado)\n",
        "print(resultado_filtrado)"
      ]
    },
    {
      "cell_type": "code",
      "execution_count": null,
      "metadata": {
        "id": "M8HJrjnBMbSG",
        "outputId": "cd346469-db51-4afa-a1eb-29af8b68d1d3"
      },
      "outputs": [
        {
          "data": {
            "text/plain": [
              "['sopa', 'sal']"
            ]
          },
          "execution_count": 50,
          "metadata": {},
          "output_type": "execute_result"
        }
      ],
      "source": [
        "# NO USAR ESTA CELDA"
      ]
    },
    {
      "cell_type": "markdown",
      "metadata": {
        "id": "2OxUX0L-MbSG"
      },
      "source": [
        "### Problema final\n",
        "**Usted va conduciendo su carro muy rápido y es detenido por un agente de tránsito. Escriba una función que retorne uno de los 3 siguientes resultados: \"Sin multa\", \"Multa pequeña\", or \"Multa grande\".\n",
        "  Si la velocidad es 60 Km/h o menos, el resultado es \"Sin multa\". Si la velocidad está entre 60 y 80 Km/h (inclusive), el resultado es \"Multa pequeña\". Si la velocidad es mayor a 80 Km/h, el resultado es \"Multa grande\". Además, considere que si esto ocurre el día de su cumpleaños (codificado como parámetro booleano que recibe la función), su velocidad podría ser 5 Km/ mayor en todos los casos. **"
      ]
    },
    {
      "cell_type": "code",
      "execution_count": 18,
      "metadata": {
        "collapsed": true,
        "id": "VxJM19nXMbSG"
      },
      "outputs": [],
      "source": [
        "def definirMulta(speed, day):\n",
        "    if day:\n",
        "        speed -= 5\n",
        "\n",
        "    if speed <= 60:\n",
        "        return \"Sin multa\"\n",
        "    elif 60 < speed <= 80:\n",
        "        return \"Multa pequeña\"\n",
        "    else:\n",
        "        return \"Multa grande\""
      ]
    },
    {
      "cell_type": "code",
      "execution_count": null,
      "metadata": {
        "collapsed": true,
        "id": "oqaUVG3mMbSH"
      },
      "outputs": [],
      "source": []
    },
    {
      "cell_type": "code",
      "execution_count": 21,
      "metadata": {
        "id": "ymhgpXB-MbSH",
        "outputId": "bdf78b84-c7b0-4b0e-c8dc-06e023d57a81",
        "colab": {
          "base_uri": "https://localhost:8080/",
          "height": 36
        }
      },
      "outputs": [
        {
          "output_type": "execute_result",
          "data": {
            "text/plain": [
              "'Multa pequeña'"
            ],
            "application/vnd.google.colaboratory.intrinsic+json": {
              "type": "string"
            }
          },
          "metadata": {},
          "execution_count": 21
        }
      ],
      "source": [
        "definirMulta(81,True)"
      ]
    },
    {
      "cell_type": "code",
      "execution_count": 22,
      "metadata": {
        "id": "jmfGI6L_MbSH",
        "outputId": "350ebf9c-afcc-45f6-b3eb-f105e9ea0900",
        "colab": {
          "base_uri": "https://localhost:8080/",
          "height": 36
        }
      },
      "outputs": [
        {
          "output_type": "execute_result",
          "data": {
            "text/plain": [
              "'Multa grande'"
            ],
            "application/vnd.google.colaboratory.intrinsic+json": {
              "type": "string"
            }
          },
          "metadata": {},
          "execution_count": 22
        }
      ],
      "source": [
        "definirMulta(81,False)"
      ]
    },
    {
      "cell_type": "markdown",
      "metadata": {
        "id": "8iXbsaWvMbSH"
      },
      "source": [
        "### Cargando Pickle"
      ]
    },
    {
      "cell_type": "markdown",
      "metadata": {
        "id": "_17R7AEGMbSH"
      },
      "source": [
        "[**Pickle**](https://wiki.python.org/moin/UsingPickle) nos permite serializar casi todo tipo de objetos en Python. Sin embargo, existen elementos como clases, funciones y metodos que no pueden ser almacenados usando Pickle. Cuando se almacene una instancia de una clase, Pickle no almacenará la clase del objeto, sino una cadena de caracteres que identifique a qué clase pertenece el objeto.\n",
        "\n",
        "A continuación usaremos el conjunto de datos de usuarios del sitio de revisión de películas y almacenaremos los primeros cinco usuarios usando Pickle. Posteriormente los cargaremos usando también Pickle."
      ]
    },
    {
      "cell_type": "code",
      "execution_count": null,
      "metadata": {
        "id": "WnUNNqLYMbSI"
      },
      "outputs": [],
      "source": [
        "import pickle\n",
        "\n",
        "with open('data/file_load/user-data.csv', 'r') as csvfile:\n",
        "    user_data = csv.reader(csvfile, delimiter='|')\n",
        "    data = list(user_data)"
      ]
    },
    {
      "cell_type": "code",
      "execution_count": null,
      "metadata": {
        "id": "xkhP5aulMbSI"
      },
      "outputs": [],
      "source": [
        "data[-5:]"
      ]
    },
    {
      "cell_type": "code",
      "execution_count": null,
      "metadata": {
        "id": "A8ksQW_8MbSI"
      },
      "outputs": [],
      "source": [
        "pickle.dump(data[-5:], open(\"data/file_load/user_data.pkl\", \"wb\"))"
      ]
    },
    {
      "cell_type": "markdown",
      "metadata": {
        "id": "0BpNgB2jMbSI"
      },
      "source": [
        "Ahora cargamos el archivo pickle de la siguiente manera:"
      ]
    },
    {
      "cell_type": "code",
      "execution_count": null,
      "metadata": {
        "id": "cIdsGup2MbSI"
      },
      "outputs": [],
      "source": [
        "user_data = pickle.load(open(\"data/file_load/user_data.pkl\", \"rb\" ))"
      ]
    },
    {
      "cell_type": "code",
      "execution_count": null,
      "metadata": {
        "id": "C41V71E8MbSI"
      },
      "outputs": [],
      "source": [
        "user_data"
      ]
    }
  ],
  "metadata": {
    "kernelspec": {
      "display_name": "Python 3",
      "language": "python",
      "name": "python3"
    },
    "language_info": {
      "codemirror_mode": {
        "name": "ipython",
        "version": 3
      },
      "file_extension": ".py",
      "mimetype": "text/x-python",
      "name": "python",
      "nbconvert_exporter": "python",
      "pygments_lexer": "ipython3",
      "version": "3.7.4"
    },
    "colab": {
      "provenance": [],
      "include_colab_link": true
    }
  },
  "nbformat": 4,
  "nbformat_minor": 0
}